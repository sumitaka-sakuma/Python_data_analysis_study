{
 "cells": [
  {
   "cell_type": "code",
   "execution_count": 1,
   "metadata": {},
   "outputs": [],
   "source": [
    "import numpy as np\n",
    "import pandas as pd\n",
    "import matplotlib.pyplot as plt"
   ]
  },
  {
   "cell_type": "code",
   "execution_count": 11,
   "metadata": {},
   "outputs": [
    {
     "data": {
      "image/png": "[encoded data removed]",
      "text/plain": [
       "<Figure size 432x288 with 1 Axes>"
      ]
     },
     "metadata": {},
     "output_type": "display_data"
    }
   ],
   "source": [
    "# 32問\n",
    "labels = ['spam', 'ham', 'egg']\n",
    "x = [10, 3, 1]\n",
    "fig, ax = plt.subplots()\n",
    "ax.pie(x, labels=labels, startangle=90, counterclock=False, autopct='%1.2f%%')\n",
    "plt.show()"
   ]
  },
  {
   "cell_type": "code",
   "execution_count": 19,
   "metadata": {},
   "outputs": [
    {
     "data": {
      "image/png": "[encoded data removed]",
      "text/plain": [
       "<Figure size 432x288 with 1 Axes>"
      ]
     },
     "metadata": {
      "needs_background": "light"
     },
     "output_type": "display_data"
    }
   ],
   "source": [
    "# 31問\n",
    "np.random.seed(123)\n",
    "mu = 100\n",
    "sigma = 15\n",
    "x = np.random.normal(mu, sigma, 1000)\n",
    "fig, ax = plt.subplots()\n",
    "n, bins, patches = ax.hist(x, bins=25, orientation='horizontal')"
   ]
  },
  {
   "cell_type": "code",
   "execution_count": 20,
   "metadata": {},
   "outputs": [
    {
     "data": {
      "text/plain": [
       "array([  2.,   3.,   6.,   7.,  16.,  29.,  37.,  65.,  57.,  90., 105.,\n",
       "       115., 116.,  78.,  74.,  77.,  42.,  41.,  21.,  10.,   4.,   2.,\n",
       "         2.,   0.,   1.])"
      ]
     },
     "execution_count": 20,
     "metadata": {},
     "output_type": "execute_result"
    }
   ],
   "source": [
    "n"
   ]
  },
  {
   "cell_type": "code",
   "execution_count": 21,
   "metadata": {},
   "outputs": [
    {
     "data": {
      "text/plain": [
       "array([ 51.53417488,  55.61575542,  59.69733595,  63.77891649,\n",
       "        67.86049702,  71.94207756,  76.02365809,  80.10523863,\n",
       "        84.18681917,  88.2683997 ,  92.34998024,  96.43156077,\n",
       "       100.51314131, 104.59472184, 108.67630238, 112.75788291,\n",
       "       116.83946345, 120.92104399, 125.00262452, 129.08420506,\n",
       "       133.16578559, 137.24736613, 141.32894666, 145.4105272 ,\n",
       "       149.49210773, 153.57368827])"
      ]
     },
     "execution_count": 21,
     "metadata": {},
     "output_type": "execute_result"
    }
   ],
   "source": [
    "bins"
   ]
  },
  {
   "cell_type": "code",
   "execution_count": 22,
   "metadata": {},
   "outputs": [
    {
     "data": {
      "text/plain": [
       "<BarContainer object of 25 artists>"
      ]
     },
     "execution_count": 22,
     "metadata": {},
     "output_type": "execute_result"
    }
   ],
   "source": [
    "patches"
   ]
  },
  {
   "cell_type": "code",
   "execution_count": 23,
   "metadata": {},
   "outputs": [
    {
     "name": "stdout",
     "output_type": "stream",
     "text": [
      "51.53 - 55.622.0\n",
      "55.62 - 59.703.0\n",
      "59.70 - 63.786.0\n",
      "63.78 - 67.867.0\n",
      "67.86 - 71.9416.0\n",
      "71.94 - 76.0229.0\n",
      "76.02 - 80.1137.0\n",
      "80.11 - 84.1965.0\n",
      "84.19 - 88.2757.0\n",
      "88.27 - 92.3590.0\n",
      "92.35 - 96.43105.0\n",
      "96.43 - 100.51115.0\n",
      "100.51 - 104.59116.0\n",
      "104.59 - 108.6878.0\n",
      "108.68 - 112.7674.0\n",
      "112.76 - 116.8477.0\n",
      "116.84 - 120.9242.0\n",
      "120.92 - 125.0041.0\n",
      "125.00 - 129.0821.0\n",
      "129.08 - 133.1710.0\n",
      "133.17 - 137.254.0\n",
      "137.25 - 141.332.0\n",
      "141.33 - 145.412.0\n",
      "145.41 - 149.490.0\n",
      "149.49 - 153.571.0\n"
     ]
    }
   ],
   "source": [
    "for i, num in enumerate(n):\n",
    "    print('{:.2f} - {:.2f}{}'.format(bins[i], bins[i + 1], num))"
   ]
  },
  {
   "cell_type": "code",
   "execution_count": 18,
   "metadata": {
    "jupyter": {
     "source_hidden": true
    }
   },
   "outputs": [
    {
     "name": "stdout",
     "output_type": "stream",
     "text": [
      "2.0\n",
      "3.0\n",
      "6.0\n",
      "7.0\n",
      "16.0\n",
      "29.0\n",
      "37.0\n",
      "65.0\n",
      "57.0\n",
      "90.0\n",
      "105.0\n",
      "115.0\n",
      "116.0\n",
      "78.0\n",
      "74.0\n",
      "77.0\n",
      "42.0\n",
      "41.0\n",
      "21.0\n",
      "10.0\n",
      "4.0\n",
      "2.0\n",
      "2.0\n",
      "0.0\n",
      "1.0\n"
     ]
    }
   ],
   "source": [
    "for num in n:\n",
    "    print(num)"
   ]
  },
  {
   "cell_type": "code",
   "execution_count": null,
   "metadata": {},
   "outputs": [],
   "source": []
  }
 ],
 "metadata": {
  "kernelspec": {
   "display_name": "Python 3",
   "language": "python",
   "name": "python3"
  },
  "language_info": {
   "codemirror_mode": {
    "name": "ipython",
    "version": 3
   },
   "file_extension": ".py",
   "mimetype": "text/x-python",
   "name": "python",
   "nbconvert_exporter": "python",
   "pygments_lexer": "ipython3",
   "version": "3.8.5"
  }
 },
 "nbformat": 4,
 "nbformat_minor": 4
}
