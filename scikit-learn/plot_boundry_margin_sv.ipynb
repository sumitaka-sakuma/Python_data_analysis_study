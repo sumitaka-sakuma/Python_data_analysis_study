{
 "cells": [
  {
   "cell_type": "code",
   "execution_count": 1,
   "metadata": {},
   "outputs": [],
   "source": [
    "# 学習、及び決定境界、マージン、サポートベクタを可視化する関数\n",
    "def plot_boundry_margin_sv(X0, y0, X1, y1, kernel, C, xmin=-1, xmax=1, ymin=-1, ymax=1):\n",
    "    # サポートベクタマシンのインスタンス化\n",
    "    svc = SVC(kernel=kernel, C=C)\n",
    "    # 学習\n",
    "    svc.fit(np.vstack((X0, X1)), np.hstack((y0, y1)))\n",
    "    \n",
    "    fig, ax = plt.subplots()\n",
    "    ax.scatter(X0[:, 0], X0[:, 1], marker='o', label='class 0')\n",
    "    ax.scatter(X1[:, 0], X1[:, 1], marker='x', label='class 1')\n",
    "    \n",
    "    # 決定境界とマージンをプロット\n",
    "    xx, yy = np.meshgrid(np.linspace(xmin, xmax, 100), np.linspace(ymin, ymax, 100))\n",
    "    xy = np.vstack([xx.ravel(), yy.ravel()]).T\n",
    "    p = svc.decision_function(xy).reshape((100, 100))\n",
    "    ax.contour(xx, yy, p,\n",
    "              colors='k', levels=[-1, 0, 1],\n",
    "              alpha=0.5, linestyles=['--', '-', '--'])\n",
    "    # サポートベクタをプロット\n",
    "    ax.scatter(svc.support_vectors_[:, 0],\n",
    "              svc.support_vectors_[:, 1],\n",
    "              s=250, facecolors='none',\n",
    "              edgecolors='black')\n",
    "    ax.set_xlabel('x')\n",
    "    ax.set_ylabel('y')\n",
    "    ax.legend(loc='best')\n",
    "    \n",
    "    plt.show()"
   ]
  }
 ],
 "metadata": {
  "kernelspec": {
   "display_name": "Python 3",
   "language": "python",
   "name": "python3"
  },
  "language_info": {
   "codemirror_mode": {
    "name": "ipython",
    "version": 3
   },
   "file_extension": ".py",
   "mimetype": "text/x-python",
   "name": "python",
   "nbconvert_exporter": "python",
   "pygments_lexer": "ipython3",
   "version": "3.8.5"
  }
 },
 "nbformat": 4,
 "nbformat_minor": 4
}
